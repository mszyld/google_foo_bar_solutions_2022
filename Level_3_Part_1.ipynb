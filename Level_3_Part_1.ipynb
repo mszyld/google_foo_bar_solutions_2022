{
 "cells": [
  {
   "attachments": {},
   "cell_type": "markdown",
   "metadata": {},
   "source": [
    "<h1 align= \"center\"><b>Problem: Prepare The Bunnies' Escape</b></h1>\n",
    "\n",
    "You're awfully close to destroying the LAMBCHOP doomsday device and freeing Commander Lambda's bunny prisoners, but once they're free of the prison blocks, the bunnies are going to need to escape Lambda's space station via the escape pods as quickly as possible. Unfortunately, the halls of the space station are a maze of corridors and dead ends that will be a deathtrap for the escaping bunnies. Fortunately, Commander Lambda has put you in charge of a remodeling project that will give you the opportunity to make things a little easier for the bunnies. Unfortunately (again), you can't just remove all obstacles between the bunnies and the escape pods - at most you can remove one wall per escape pod path, both to maintain structural integrity of the station and to avoid arousing Commander Lambda's suspicions.\n",
    "\n",
    "You have maps of parts of the space station, each starting at a prison exit and ending at the door to an escape pod. The map is represented as a matrix of 0s and 1s, where 0s are passable space and 1s are impassable walls. The door out of the prison is at the top left (0,0) and the door into an escape pod is at the bottom right (w-1,h-1).\n",
    "\n",
    "Write a function solution(map) that generates the length of the shortest path from the prison door to the escape pod, where you are allowed to remove one wall as part of your remodeling plans. The path length is the total number of nodes you pass through, counting both the entrance and exit nodes. The starting and ending positions are always passable (0). The map will always be solvable, though you may or may not need to remove a wall. The height and width of the map can be from 2 to 20. Moves can only be made in cardinal directions; no diagonal moves are allowed.\n",
    "\n",
    "<h2 align= \"center\"><b>Test Cases</b></h2>\n",
    "\n",
    "```\n",
    "\n",
    "Input:\n",
    "    solution.solution([[0, 1, 1, 0], [0, 0, 0, 1], [1, 1, 0, 0], [1, 1, 1, 0]])\n",
    "Output:\n",
    "    7\n",
    "\n",
    "Input:\n",
    "    solution.solution([[0, 0, 0, 0, 0, 0], [1, 1, 1, 1, 1, 0], [0, 0, 0, 0, 0, 0], [0, 1, 1, 1, 1, 1], [0, 1, 1, 1, 1, 1], [0, 0, 0, 0, 0, 0]])\n",
    "Output:\n",
    "    11\n",
    "\n",
    "```\n"
   ]
  },
  {
   "attachments": {},
   "cell_type": "markdown",
   "metadata": {},
   "source": [
    "<h3 align= \"center\"><b>The idea</b></h3>\n",
    "\n",
    "The first (not very surprising) idea here is that if you want to find a shortest path in a maze, from a given entrance to a given exit, you can do a BFS keeping track of the visited positions. This can be done by making a visited \"0\" in the map into a \"1\". When there isn't the ability to destroy walls, this works because you never want to revisit a position since you're looking for the shortest possible path. The twist here is that if you are visiting a position when having already destroyed a wall you still may want to \"revisit\" it if there is another path there that doesn't require a destroyed wall (because it can be more convenient to destroy another wall \"closer\" to the exit). So I chose to do this by making a visited \"0\" into either \"2\" or \"3\" depending if I'm visiting without or with a wall destruction, in the following part of the code:"
   ]
  },
  {
   "cell_type": "code",
   "execution_count": null,
   "metadata": {},
   "outputs": [],
   "source": [
    "# (x,y),d in to_check means that I'm visiting x,y in this step, d = 0 without destroying, d = 1 with destroying\n",
    "for (x,y),d in to_check:\n",
    "    if (x,y) == (h-1,w-1):\n",
    "        return steps\n",
    "    if d == 0:\n",
    "        # visiting without destroying, don't visit again\n",
    "        map[x][y] = 2\n",
    "    else:\n",
    "        # visiting with destroying (if it was 0 we may visit it again without destroying)\n",
    "        map[x][y] += 3"
   ]
  },
  {
   "attachments": {},
   "cell_type": "markdown",
   "metadata": {},
   "source": [
    "And then, when I encounter a cell marked with \"3\", if in the current path I haven't yet destroyed a wall then I add it to \"new_ones\", that is, the ones to check:"
   ]
  },
  {
   "cell_type": "code",
   "execution_count": null,
   "metadata": {},
   "outputs": [],
   "source": [
    "for (x,y),d in to_check:\n",
    "    for (X,Y) in neighbors(x,y):\n",
    "        \n",
    "        if d + map[X][Y] == 1:\n",
    "            new_ones[(X,Y)] = new_ones.get((X,Y),1)\n",
    "        \n",
    "        if d == 0 and (map[X][Y] == 0 or map[X][Y] == 3):\n",
    "            new_ones[(X,Y)] = 0"
   ]
  },
  {
   "attachments": {},
   "cell_type": "markdown",
   "metadata": {},
   "source": [
    "And that's it! A classic BFS problem with a nice twist :)"
   ]
  },
  {
   "attachments": {},
   "cell_type": "markdown",
   "metadata": {},
   "source": [
    "<h3 align= \"center\"><b>The code</b></h3>"
   ]
  },
  {
   "cell_type": "code",
   "execution_count": 2,
   "metadata": {},
   "outputs": [],
   "source": [
    "#  Submitted solution\n",
    "def solution(map):\n",
    "    global w\n",
    "    w = len(map[0])\n",
    "    global h\n",
    "    h = len(map)\n",
    "   \n",
    "    def neighbors(x,y):\n",
    "        ans = []\n",
    "        if x > 0:\n",
    "            ans.append ((x-1,y))\n",
    "        if x+1 < h:\n",
    "            ans.append ((x+1,y))\n",
    "        if y > 0:\n",
    "            ans.append ((x,y-1))\n",
    "        if y+1 < w:\n",
    "            ans.append ((x,y+1))\n",
    "        return ans\n",
    "   \n",
    "    global new_ones\n",
    "    new_ones = dict()\n",
    "       \n",
    "    to_check = [ ((0,0),0) ]\n",
    "   \n",
    "    for steps in range(1,w*h):\n",
    "\n",
    "        # (x,y),d in to_check means that I'm visiting x,y in this step, d = 0 without destroying, d = 1 with destroying\n",
    "        for (x,y),d in to_check:\n",
    "            if (x,y) == (h-1,w-1):\n",
    "                return steps\n",
    "            if d == 0:\n",
    "                # visiting without destroying, don't visit again\n",
    "                map[x][y] = 2\n",
    "            else:\n",
    "                # visiting with destroying (if it was 0 we may visit it again without destroying)\n",
    "                map[x][y] += 3\n",
    "           \n",
    "        for (x,y),d in to_check:\n",
    "            for (X,Y) in neighbors(x,y):\n",
    "               \n",
    "                if d + map[X][Y] == 1:\n",
    "                    new_ones[(X,Y)] = new_ones.get((X,Y),1)\n",
    "               \n",
    "                if d == 0 and (map[X][Y] == 0 or map[X][Y] == 3):\n",
    "                    new_ones[(X,Y)] = 0\n",
    "                   \n",
    "        to_check = [ ((x,y), new_ones[(x,y)] ) for (x,y) in new_ones ]\n",
    "        new_ones = {}"
   ]
  },
  {
   "cell_type": "code",
   "execution_count": 3,
   "metadata": {},
   "outputs": [
    {
     "name": "stdout",
     "output_type": "stream",
     "text": [
      "7\n"
     ]
    }
   ],
   "source": [
    "print (solution([[0, 1, 1, 0], [0, 0, 0, 1], [1, 1, 0, 0], [1, 1, 1, 0]]))"
   ]
  },
  {
   "cell_type": "code",
   "execution_count": 4,
   "metadata": {},
   "outputs": [
    {
     "name": "stdout",
     "output_type": "stream",
     "text": [
      "11\n"
     ]
    }
   ],
   "source": [
    "print (solution([[0, 0, 0, 0, 0, 0], [1, 1, 1, 1, 1, 0], [0, 0, 0, 0, 0, 0], [0, 1, 1, 1, 1, 1], [0, 1, 1, 1, 1, 1], [0, 0, 0, 0, 0, 0]]))"
   ]
  }
 ],
 "metadata": {
  "kernelspec": {
   "display_name": ".venv",
   "language": "python",
   "name": "python3"
  },
  "language_info": {
   "codemirror_mode": {
    "name": "ipython",
    "version": 3
   },
   "file_extension": ".py",
   "mimetype": "text/x-python",
   "name": "python",
   "nbconvert_exporter": "python",
   "pygments_lexer": "ipython3",
   "version": "3.11.1"
  },
  "orig_nbformat": 4,
  "vscode": {
   "interpreter": {
    "hash": "f2c3671263f3976b0affb4b791f0958763c5720cfd17d2371d8063efdec0462b"
   }
  }
 },
 "nbformat": 4,
 "nbformat_minor": 2
}
