{
 "cells": [
  {
   "attachments": {},
   "cell_type": "markdown",
   "metadata": {},
   "source": [
    "<h1 align= \"center\"><b>Problem: Bunny Prisoner Locating</b></h1>\n",
    "\n",
    "Keeping track of Commander Lambda's many bunny prisoners is starting to get tricky. You've been tasked with writing a program to match bunny prisoner IDs to cell locations.\n",
    "\n",
    "The LAMBCHOP doomsday device takes up much of the interior of Commander Lambda's space station, and as a result the prison blocks have an unusual layout. They are stacked in a triangular shape, and the bunny prisoners are given numerical IDs starting from the corner, as follows:\n",
    "\n",
    "    | 7\n",
    "    | 4 8\n",
    "    | 2 5 9\n",
    "    | 1 3 6 10\n",
    "\n",
    "Each cell can be represented as points (x, y), with x being the distance from the vertical wall, and y being the height from the ground.\n",
    "\n",
    "For example, the bunny prisoner at (1, 1) has ID 1, the bunny prisoner at (3, 2) has ID 9, and the bunny prisoner at (2,3) has ID 8. This pattern of numbering continues indefinitely (Commander Lambda has been taking a LOT of prisoners).\n",
    "\n",
    "Write a function solution(x, y) which returns the prisoner ID of the bunny at location (x, y). Each value of x and y will be at least 1 and no greater than 100,000. Since the prisoner ID can be very large, return your solution as a string representation of the number.\n",
    "\n",
    "<h3 align= \"center\"><b>Test Cases</b></h3>\n",
    "\n",
    "```\n",
    "\n",
    "Input:\n",
    "    solution.solution(5, 10)\n",
    "Output:\n",
    "    96\n",
    "\n",
    "Input:\n",
    "    solution.solution(3, 2)\n",
    "Output:\n",
    "    9\n",
    "\n",
    "```\n"
   ]
  },
  {
   "attachments": {},
   "cell_type": "markdown",
   "metadata": {},
   "source": [
    "<h3 align= \"center\"><b>The idea</b></h3>\n",
    "\n",
    "Let's look at the (3,2) --> 9 example. We see that 9 is in the same diagonal as 10\n",
    "\n",
    "    | 7\n",
    "    | 4 8\n",
    "    | 2 5 9\n",
    "    | 1 3 6 10\n",
    "\n",
    "And also we can compute 10, in the position (4,1), as the sum of the # of elements in the diagonals, 1 + 2 + 3 + 4, equal to 4*(4+1)/2 by the usual <a href=\"https://www.nctm.org/Publications/TCM-blog/Blog/The-Story-of-Gauss/\">formula</a> that Gauss figured out in primary school. From 10, we subtract 1 to go \"1 up\" and get to the desired answer 9.\n",
    "\n",
    "Let's see how we got these numbers and do that for general (x,y). It's easier to do y -= 1 first so that y now represents the number of rows we have to go \"up\" from the first one. Going back to the example, now 9 is in the position represented by (3,1). We observe now that, just like we go from 6 in position (3,0) to 9 by going \"1 up\", we go to 10 in position (4,0) by going \"1 right\". This works in general just like for 6,9, and 10: there's always a smaller (isosceles, right) triangle which has vertices (x,0), (x,y), and the number in the bottom-right of the big triangle which has (x,y), so this number has to be in position (x+y,0). Then the total number of IDs in that big triangle is 1+2+...+(x+y)=(x+y)*(x+y+1)//2, and we just have to subtract y to that number to \"go up\" from (x+y,0) to (x,y) and get our answer.\n",
    "\n",
    "Oh, and finally since Python can handle very large numbers as int, we don't have to do the string conversion"
   ]
  },
  {
   "attachments": {},
   "cell_type": "markdown",
   "metadata": {},
   "source": [
    "<h3 align= \"center\"><b>The code</b></h3>"
   ]
  },
  {
   "cell_type": "code",
   "execution_count": 1,
   "metadata": {},
   "outputs": [],
   "source": [
    "def solution(x, y):\n",
    "    y -= 1\n",
    "    ans = ( (x+y)*(x+y+1)//2 - y)\n",
    "    return ans"
   ]
  },
  {
   "cell_type": "code",
   "execution_count": 2,
   "metadata": {},
   "outputs": [
    {
     "name": "stdout",
     "output_type": "stream",
     "text": [
      "9\n"
     ]
    }
   ],
   "source": [
    "print (solution(3,2))"
   ]
  },
  {
   "cell_type": "code",
   "execution_count": 3,
   "metadata": {},
   "outputs": [
    {
     "name": "stdout",
     "output_type": "stream",
     "text": [
      "96\n"
     ]
    }
   ],
   "source": [
    "print (solution(5,10))"
   ]
  }
 ],
 "metadata": {
  "kernelspec": {
   "display_name": ".venv",
   "language": "python",
   "name": "python3"
  },
  "language_info": {
   "codemirror_mode": {
    "name": "ipython",
    "version": 3
   },
   "file_extension": ".py",
   "mimetype": "text/x-python",
   "name": "python",
   "nbconvert_exporter": "python",
   "pygments_lexer": "ipython3",
   "version": "3.11.1"
  },
  "orig_nbformat": 4,
  "vscode": {
   "interpreter": {
    "hash": "f2c3671263f3976b0affb4b791f0958763c5720cfd17d2371d8063efdec0462b"
   }
  }
 },
 "nbformat": 4,
 "nbformat_minor": 2
}
