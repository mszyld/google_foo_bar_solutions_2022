{
 "cells": [
  {
   "attachments": {},
   "cell_type": "markdown",
   "metadata": {},
   "source": [
    "<h1 align= \"center\"><b>Problem: Escape Pods</b></h1>\n",
    "\n",
    "You've blown up the LAMBCHOP doomsday device and broken the bunnies out of Lambda's prison - and now you need to escape from the space station as quickly and as orderly as possible! The bunnies have all gathered in various locations throughout the station, and need to make their way towards the seemingly endless amount of escape pods positioned in other parts of the station. You need to get the numerous bunnies through the various rooms to the escape pods. Unfortunately, the corridors between the rooms can only fit so many bunnies at a time. What's more, many of the corridors were resized to accommodate the LAMBCHOP, so they vary in how many bunnies can move through them at a time. \n",
    "\n",
    "Given the starting room numbers of the groups of bunnies, the room numbers of the escape pods, and how many bunnies can fit through at a time in each direction of every corridor in between, figure out how many bunnies can safely make it to the escape pods at a time at peak.\n",
    "\n",
    "Write a function solution(entrances, exits, path) that takes an array of integers denoting where the groups of gathered bunnies are, an array of integers denoting where the escape pods are located, and an array of an array of integers of the corridors, returning the total number of bunnies that can get through at each time step as an int. The entrances and exits are disjoint and thus will never overlap. The path element path[A][B] = C describes that the corridor going from A to B can fit C bunnies at each time step.  There are at most 50 rooms connected by the corridors and at most 2000000 bunnies that will fit at a time.\n",
    "\n",
    "For example, if you have:\n",
    "\n",
    "    entrances = [0, 1]\n",
    "    exits = [4, 5]\n",
    "    path =\n",
    "    [\n",
    "        [0, 0, 4, 6, 0, 0],  # Room 0: Bunnies\n",
    "        [0, 0, 5, 2, 0, 0],  # Room 1: Bunnies\n",
    "        [0, 0, 0, 0, 4, 4],  # Room 2: Intermediate room\n",
    "        [0, 0, 0, 0, 6, 6],  # Room 3: Intermediate room\n",
    "        [0, 0, 0, 0, 0, 0],  # Room 4: Escape pods\n",
    "        [0, 0, 0, 0, 0, 0],  # Room 5: Escape pods\n",
    "    ]\n",
    "\n",
    "Then in each time step, the following might happen:\n",
    "\n",
    "    0 sends 4/4 bunnies to 2 and 6/6 bunnies to 3\n",
    "    1 sends 4/5 bunnies to 2 and 2/2 bunnies to 3\n",
    "    2 sends 4/4 bunnies to 4 and 4/4 bunnies to 5\n",
    "    3 sends 4/6 bunnies to 4 and 4/6 bunnies to 5\n",
    "\n",
    "So, in total, 16 bunnies could make it to the escape pods at 4 and 5 at each time step.  (Note that in this example, room 3 could have sent any variation of 8 bunnies to 4 and 5, such as 2/6 and 6/6, but the final solution remains the same.)\n",
    "\n",
    "\n",
    "<h3 align= \"center\"><b>Test Cases</b></h3>\n",
    "\n",
    "```\n",
    "\n",
    "Input:\n",
    "    solution.solution([0], [3], [[0, 7, 0, 0], [0, 0, 6, 0], [0, 0, 0, 8], [9, 0, 0, 0]])\n",
    "Output:\n",
    "    6\n",
    "\n",
    "Input:\n",
    "    solution.solution([0, 1], [4, 5], [[0, 0, 4, 6, 0, 0], [0, 0, 5, 2, 0, 0], [0, 0, 0, 0, 4, 4], [0, 0, 0, 0, 6, 6], [0, 0, 0, 0, 0, 0], [0, 0, 0, 0, 0, 0]])\n",
    "Output:\n",
    "    16\n",
    "\n",
    "```"
   ]
  },
  {
   "attachments": {},
   "cell_type": "markdown",
   "metadata": {},
   "source": [
    "<h3 align= \"center\"><b>The idea</b></h3>\n",
    "\n",
    "I was stuck trying to solve this problem on my own and decided to look for hints. Googling for words like graph, flow, network led me to learn about the <a href=\"https://en.wikipedia.org/wiki/Maximum_flow_problem\">maximum flow problem</a> and the many different solutions. I chose one which runs in O(V^3) because the number of bunnies could be very large but V is limited to 50 (reference in the code below). Note that the classical problem has only one entrance and one exit. I adapted it to this case in which we have many entrances by adding an extra entrance and letting an infinite flow from it to all the entrances, and similarly for the exits."
   ]
  },
  {
   "attachments": {},
   "cell_type": "markdown",
   "metadata": {},
   "source": [
    "<h3 align= \"center\"><b>The code</b></h3>"
   ]
  },
  {
   "cell_type": "code",
   "execution_count": 2,
   "metadata": {},
   "outputs": [],
   "source": [
    "def solution(entrances, exits, path):\n",
    "    \n",
    "    # Maximum Flow - Push-relabel algorithm in O(V^3)\n",
    "    # Adapted to Python and multiple sources and targets.\n",
    "    # reF: https://cp-algorithms.com/graph/push-relabel-faster.html\n",
    "    \n",
    "    INFTY = 4000000\n",
    "    \n",
    "    n = len(path)\n",
    "    \n",
    "    for row in path:\n",
    "        row.extend([0,0])\n",
    "    path.append ( path[exits[0]][:] )\n",
    "    path.append ( path[exits[0]][:] )\n",
    "    src = -2\n",
    "    tgt = -1\n",
    "    for e in entrances:\n",
    "        path[src][e] = INFTY//2\n",
    "    for e in exits:\n",
    "        path[e][tgt] = INFTY//2\n",
    "    \n",
    "\n",
    "    def push(u, v, path, flow, excess):\n",
    "        d = min(excess[u], path[u][v] - flow[u][v])\n",
    "        flow[u][v] += d\n",
    "        flow[v][u] -= d\n",
    "        excess[u] -= d\n",
    "        excess[v] += d\n",
    "    \n",
    "    def relabel(u, path, flow, height):\n",
    "        d = INFTY\n",
    "        for i in range(n+2):\n",
    "            if path[u][i] > flow[u][i]:\n",
    "                d = min(d, height[i])\n",
    "        if d < INFTY:\n",
    "            height[u] = d + 1\n",
    "    \n",
    "    def find_max_height_vertices(height, excess):\n",
    "        max_height = []\n",
    "        for i in range(n):\n",
    "            if excess[i]:\n",
    "                if max_height != [] and height[i] > height[max_height[0]]:\n",
    "                    max_height = []\n",
    "                if max_height == [] or height[i] == height[max_height[0]]:\n",
    "                    max_height.append(i)\n",
    "        return max_height\n",
    "        \n",
    "        \n",
    "    height = [0 for _ in range(n+2)]\n",
    "    height[src] = n+2\n",
    "    flow = [ [0 for _ in range(n+2)] for _ in range(n+2) ]\n",
    "    excess = [0 for _ in range(n+2)]\n",
    "    excess[src] = INFTY\n",
    "    \n",
    "    for i in range(n):\n",
    "        push(src, i, path, flow, excess)\n",
    "\n",
    "    current = find_max_height_vertices(height, excess)\n",
    "    while current != []:\n",
    "        \n",
    "        for i in current:\n",
    "            pushed = False\n",
    "            for j in range(n+2):\n",
    "                if not excess[i]:\n",
    "                    break\n",
    "                if path[i][j] > flow[i][j] and height[i] == height[j] + 1:\n",
    "                    push(i, j, path, flow, excess)\n",
    "                    pushed = True\n",
    "            \n",
    "            if not pushed:\n",
    "                relabel(i, path, flow, height)\n",
    "                break\n",
    "        \n",
    "        current = find_max_height_vertices(height, excess)\n",
    "    \n",
    "    return sum( flow[i][tgt] for i in range(n) )"
   ]
  },
  {
   "cell_type": "code",
   "execution_count": 3,
   "metadata": {},
   "outputs": [
    {
     "name": "stdout",
     "output_type": "stream",
     "text": [
      "6\n"
     ]
    }
   ],
   "source": [
    "print (solution([0], [3], [[0, 7, 0, 0], [0, 0, 6, 0], [0, 0, 0, 8], [9, 0, 0, 0]]))"
   ]
  },
  {
   "cell_type": "code",
   "execution_count": 4,
   "metadata": {},
   "outputs": [
    {
     "name": "stdout",
     "output_type": "stream",
     "text": [
      "16\n"
     ]
    }
   ],
   "source": [
    "print (solution([0, 1], [4, 5], [[0, 0, 4, 6, 0, 0], [0, 0, 5, 2, 0, 0], [0, 0, 0, 0, 4, 4], [0, 0, 0, 0, 6, 6], [0, 0, 0, 0, 0, 0], [0, 0, 0, 0, 0, 0]]))"
   ]
  }
 ],
 "metadata": {
  "kernelspec": {
   "display_name": ".venv",
   "language": "python",
   "name": "python3"
  },
  "language_info": {
   "codemirror_mode": {
    "name": "ipython",
    "version": 3
   },
   "file_extension": ".py",
   "mimetype": "text/x-python",
   "name": "python",
   "nbconvert_exporter": "python",
   "pygments_lexer": "ipython3",
   "version": "3.11.1"
  },
  "orig_nbformat": 4,
  "vscode": {
   "interpreter": {
    "hash": "f2c3671263f3976b0affb4b791f0958763c5720cfd17d2371d8063efdec0462b"
   }
  }
 },
 "nbformat": 4,
 "nbformat_minor": 2
}
