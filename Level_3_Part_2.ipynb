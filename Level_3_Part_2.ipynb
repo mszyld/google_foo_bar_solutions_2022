{
 "cells": [
  {
   "attachments": {},
   "cell_type": "markdown",
   "metadata": {},
   "source": [
    "<h1 align= \"center\"><b>Problem: Doomsday Fuel</b></h1>\n",
    "\n",
    "Making fuel for the LAMBCHOP's reactor core is a tricky process because of the exotic matter involved. It starts as raw ore, then during processing, begins randomly changing between forms, eventually reaching a stable form. There may be multiple stable forms that a sample could ultimately reach, not all of which are useful as fuel. \n",
    "\n",
    "Commander Lambda has tasked you to help the scientists increase fuel creation efficiency by predicting the end state of a given ore sample. You have carefully studied the different structures that the ore can take and which transitions it undergoes. It appears that, while random, the probability of each structure transforming is fixed. That is, each time the ore is in 1 state, it has the same probabilities of entering the next state (which might be the same state).  You have recorded the observed transitions in a matrix. The others in the lab have hypothesized more exotic forms that the ore can become, but you haven't seen all of them.\n",
    "\n",
    "Write a function solution(m) that takes an array of array of nonnegative ints representing how many times that state has gone to the next state and return an array of ints for each terminal state giving the exact probabilities of each terminal state, represented as the numerator for each state, then the denominator for all of them at the end and in simplest form. The matrix is at most 10 by 10. It is guaranteed that no matter which state the ore is in, there is a path from that state to a terminal state. That is, the processing will always eventually end in a stable state. The ore starts in state 0. The denominator will fit within a signed 32-bit integer during the calculation, as long as the fraction is simplified regularly. \n",
    "\n",
    "    For example, consider the matrix m:\n",
    "    [\n",
    "\t    [0,1,0,0,0,1],  # s0, the initial state, goes to s1 and s5 with equal probability\n",
    "\t    [4,0,0,3,2,0],  # s1 can become s0, s3, or s4, but with different probabilities\n",
    "\t    [0,0,0,0,0,0],  # s2 is terminal, and unreachable (never observed in practice)\n",
    "\t    [0,0,0,0,0,0],  # s3 is terminal\n",
    "\t    [0,0,0,0,0,0],  # s4 is terminal\n",
    "\t    [0,0,0,0,0,0],  # s5 is terminal\n",
    "    ]\n",
    "\n",
    "So, we can consider different paths to terminal states, such as:\n",
    "\n",
    "    s0 -> s1 -> s3\n",
    "    s0 -> s1 -> s0 -> s1 -> s0 -> s1 -> s4\n",
    "    s0 -> s1 -> s0 -> s5\n",
    "\n",
    "Tracing the probabilities of each, we find that:\n",
    "\n",
    "    s2 has probability 0\n",
    "    s3 has probability 3/14\n",
    "    s4 has probability 1/7\n",
    "    s5 has probability 9/14\n",
    "\n",
    "So, putting that together, and making a common denominator, gives an answer in the form of [s2.numerator, s3.numerator, s4.numerator, s5.numerator, denominator] which is [0, 3, 2, 9, 14].\n",
    "\n",
    "<h3 align= \"center\"><b>Test Cases</b></h3>\n",
    "\n",
    "```\n",
    "\n",
    "Input:\n",
    "    solution.solution([[0, 2, 1, 0, 0], [0, 0, 0, 3, 4], [0, 0, 0, 0, 0], [0, 0, 0, 0,0], [0, 0, 0, 0, 0]])\n",
    "Output:\n",
    "    [7, 6, 8, 21]\n",
    "\n",
    "Input:\n",
    "    solution.solution([[0, 1, 0, 0, 0, 1], [4, 0, 0, 3, 2, 0], [0, 0, 0, 0, 0, 0], [0, 0, 0, 0, 0, 0], [0, 0, 0, 0, 0, 0], [0, 0, 0, 0, 0, 0]])\n",
    "Output:\n",
    "    [0, 3, 2, 9, 14]\n",
    "\n",
    "```"
   ]
  },
  {
   "attachments": {},
   "cell_type": "markdown",
   "metadata": {},
   "source": [
    "<h3 align= \"center\"><b>The idea</b></h3>\n",
    "\n",
    "- First idea: You can ignore the fuel that stays in the same form. Since it will eventually go to the other form, you can just make that a 0 and it won't change the final result. So we can do:\n"
   ]
  },
  {
   "cell_type": "code",
   "execution_count": null,
   "metadata": {},
   "outputs": [],
   "source": [
    "for i in range(siz):\n",
    "    mat[i][i] = 0"
   ]
  },
  {
   "attachments": {},
   "cell_type": "markdown",
   "metadata": {},
   "source": [
    "Now the key idea: we want to transform the matrix into an \"equivalent\" one for which the first row (which tells us the states to which the fuel evolve from the start) only transforms the fuel into terminal states. Then that row will basically be our answer. By \"equivalent\" I mean that it still represents the same process by which the fuel evolves. We will get to equivalent matrices by doing allowed operations that put new zeros in the matrix, similar to how you <a href = \"https://en.wikipedia.org/wiki/Row_echelon_form\">reduce a matrix</a> in linear algebra. We will do this with a loop for each col and row, and in that step we will obtain a zero in mat[row][col], except if the column is a terminal state:"
   ]
  },
  {
   "cell_type": "code",
   "execution_count": 23,
   "metadata": {},
   "outputs": [
    {
     "name": "stdout",
     "output_type": "stream",
     "text": [
      "1 0 [[0, 0, 7, 6, 8], [0, 0, 0, 3, 4], [0, 0, 0, 0, 0], [0, 0, 0, 0, 0], [0, 0, 0, 0, 0]]\n"
     ]
    }
   ],
   "source": [
    "def solution(mat):\n",
    "\n",
    "    siz = len(mat)\n",
    "    \n",
    "    for i in range(siz):\n",
    "        mat[i][i] = 0\n",
    "    \n",
    "    sum_rows = [sum(row) for row in mat ]\n",
    "    if sum_rows[0] == 0:\n",
    "        return [1,1]\n",
    "       \n",
    "    def dot(num,arr):\n",
    "        return [num * n for n in arr]\n",
    "    def add(arr,arr2):\n",
    "        return [n1 + n2 for n1,n2 in zip(arr,arr2)]\n",
    "    \n",
    "    for col in range(0,siz):\n",
    "        if sum_rows[col] == 0:\n",
    "            continue\n",
    "        for row in range(0,siz):\n",
    "            if mat[row][col] == 0:\n",
    "                continue\n",
    "            prov = add ( dot(sum_rows[col] , mat[row]) , dot(mat[row][col] , mat[col]))\n",
    "            prov[col] = 0\n",
    "            prov[row] = 0     \n",
    "            mat[row] = prov\n",
    "            sum_rows[row] = sum( prov )\n",
    "            print(col, row, mat)\n",
    "\n",
    "solution([  [0, 2, 1, 0, 0], \n",
    "            [0, 0, 0, 3, 4], \n",
    "            [0, 0, 0, 0, 0], \n",
    "            [0, 0, 0, 0, 0],\n",
    "            [0, 0, 0, 0, 0]])"
   ]
  },
  {
   "attachments": {},
   "cell_type": "markdown",
   "metadata": {},
   "source": [
    "First the selling point: Note that the row [0, 0, 7, 6, 8] in the first line of the matrix already gives us the desired answer [7,6,8,21]! This row is saying that the process will have the same outcome if the fuel goes directly from state 0 to the terminal states 2, 3, and 4, with those proportions.\n",
    "\n",
    "Now, the key code line to understand is \n",
    "\n",
    "(***)  prov = add ( dot(sum_rows[col] , mat[row]) , dot(mat[row][col] , mat[col]))\n",
    "\n",
    "which computes a new row that will replace mat[row]. This is easiest to understand in the example, so with col = 1 and row = 0. This is representing the following process:\n",
    "\n",
    "Start with 3 * 7 = 21 fuel in state 0, 7 * 2 goes to state 1 and then it gets modified again, so 3 * 2 goes to state 3 and 4 * 2 goes to state 4. Also 7 * 1 goes directly from state 0 to state 2. The new state is then [0,0,7*1,3*2,4*2], so this could replace row 0, and you can get that by first doing the computation in (***), which in this case is:\n",
    "\n",
    "7 * [0,2,1,0,0] + 2 * [0,0,0,3,4] = [0,14,7,6,8]\n",
    "\n",
    "and then making the second coordinate (14) into 0 (that's the code line prov[col] = 0) because those 7*2 in state 1 were already modified into [0,0,0,6,8]. Finally, since this will go into mat[row], we can also make prov[row]=0 like we did for our \"first idea\". This guarantees that we keep getting new zeros and not losing the ones we already had.\n",
    "\n",
    "And that's pretty much it! After all this process you will have a first row which will give you the answer once you divide all the numbers by their gcd.\n",
    "\n",
    "Note: the line \"if mat[row][col] == 0: continue\" is not needed and it actually wasn't part of my solution, but it keeps the numbers smaller and so it makes the explanation a bit easier here...\n",
    "\n",
    "Here's one more example with the other test case, and below is the complete solution\n"
   ]
  },
  {
   "cell_type": "code",
   "execution_count": 25,
   "metadata": {},
   "outputs": [
    {
     "name": "stdout",
     "output_type": "stream",
     "text": [
      "0 1 [[0, 1, 0, 0, 0, 1], [0, 0, 0, 6, 4, 4], [0, 0, 0, 0, 0, 0], [0, 0, 0, 0, 0, 0], [0, 0, 0, 0, 0, 0], [0, 0, 0, 0, 0, 0]]\n",
      "1 0 [[0, 0, 0, 6, 4, 18], [0, 0, 0, 6, 4, 4], [0, 0, 0, 0, 0, 0], [0, 0, 0, 0, 0, 0], [0, 0, 0, 0, 0, 0], [0, 0, 0, 0, 0, 0]]\n"
     ]
    }
   ],
   "source": [
    "solution([[0, 1, 0, 0, 0, 1], [4, 0, 0, 3, 2, 0], [0, 0, 0, 0, 0, 0], [0, 0, 0, 0, 0, 0], [0, 0, 0, 0, 0, 0], [0, 0, 0, 0, 0, 0]])"
   ]
  },
  {
   "attachments": {},
   "cell_type": "markdown",
   "metadata": {},
   "source": [
    "<h3 align= \"center\"><b>The code</b></h3>"
   ]
  },
  {
   "cell_type": "code",
   "execution_count": 8,
   "metadata": {},
   "outputs": [],
   "source": [
    "def solution(mat):\n",
    "\n",
    "    siz = len(mat)\n",
    "    \n",
    "    for i in range(siz):\n",
    "        mat[i][i] = 0\n",
    "    \n",
    "    sum_rows = [sum(row) for row in mat ]\n",
    "    if sum_rows[0] == 0:\n",
    "        return [1,1]\n",
    "       \n",
    "    def dot(num,arr):\n",
    "        return [num * n for n in arr]\n",
    "    def add(arr,arr2):\n",
    "        return [n1 + n2 for n1,n2 in zip(arr,arr2)]\n",
    "    \n",
    "    for col in range(0,siz):\n",
    "        if sum_rows[col] == 0:\n",
    "            continue\n",
    "        for row in range(0,siz):\n",
    "            prov = add ( dot(sum_rows[col] , mat[row]) , dot(mat[row][col] , mat[col]))\n",
    "            prov[col] = 0\n",
    "            prov[row] = 0     \n",
    "            mat[row] = prov\n",
    "            sum_rows[row] = sum( prov )\n",
    "            \n",
    "    ans = [mat[0][i] for i in range(siz) if sum_rows[i] == 0]\n",
    "    from math import gcd\n",
    "    from functools import reduce\n",
    "    gcd = reduce(gcd,ans)\n",
    "    ans = [a//gcd for a in ans]\n",
    "    ans.append (sum(ans))\n",
    "    return ans\n"
   ]
  },
  {
   "cell_type": "code",
   "execution_count": 9,
   "metadata": {},
   "outputs": [
    {
     "name": "stdout",
     "output_type": "stream",
     "text": [
      "[7, 6, 8, 21]\n"
     ]
    }
   ],
   "source": [
    "print (solution([[0, 2, 1, 0, 0], [0, 0, 0, 3, 4], [0, 0, 0, 0, 0], [0, 0, 0, 0,0], [0, 0, 0, 0, 0]]))"
   ]
  },
  {
   "cell_type": "code",
   "execution_count": 10,
   "metadata": {},
   "outputs": [
    {
     "name": "stdout",
     "output_type": "stream",
     "text": [
      "[0, 3, 2, 9, 14]\n"
     ]
    }
   ],
   "source": [
    "print (solution([[0, 1, 0, 0, 0, 1], [4, 0, 0, 3, 2, 0], [0, 0, 0, 0, 0, 0], [0, 0, 0, 0, 0, 0], [0, 0, 0, 0, 0, 0], [0, 0, 0, 0, 0, 0]]))"
   ]
  }
 ],
 "metadata": {
  "kernelspec": {
   "display_name": ".venv",
   "language": "python",
   "name": "python3"
  },
  "language_info": {
   "codemirror_mode": {
    "name": "ipython",
    "version": 3
   },
   "file_extension": ".py",
   "mimetype": "text/x-python",
   "name": "python",
   "nbconvert_exporter": "python",
   "pygments_lexer": "ipython3",
   "version": "3.11.1"
  },
  "orig_nbformat": 4,
  "vscode": {
   "interpreter": {
    "hash": "f2c3671263f3976b0affb4b791f0958763c5720cfd17d2371d8063efdec0462b"
   }
  }
 },
 "nbformat": 4,
 "nbformat_minor": 2
}
