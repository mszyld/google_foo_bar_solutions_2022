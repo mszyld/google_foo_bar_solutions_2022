{
 "cells": [
  {
   "attachments": {},
   "cell_type": "markdown",
   "metadata": {},
   "source": [
    "<h1 align= \"center\"><b>Problem: Fuel Injection Perfection</b></h1>\n",
    "\n",
    "Commander Lambda has asked for your help to refine the automatic quantum antimatter fuel injection system for her LAMBCHOP doomsday device. It's a great chance for you to get a closer look at the LAMBCHOP - and maybe sneak in a bit of sabotage while you're at it - so you took the job gladly. \n",
    "\n",
    "Quantum antimatter fuel comes in small pellets, which is convenient since the many moving parts of the LAMBCHOP each need to be fed fuel one pellet at a time. However, minions dump pellets in bulk into the fuel intake. You need to figure out the most efficient way to sort and shift the pellets down to a single pellet at a time. \n",
    "\n",
    "The fuel control mechanisms have three operations: \n",
    "\n",
    "    1. Add one fuel pellet\n",
    "    2. Remove one fuel pellet\n",
    "    3. Divide the entire group of fuel pellets by 2 (due to the destructive energy released when a quantum antimatter pellet is cut in half, the safety controls will only allow this to happen if there is an even number of pellets)\n",
    "\n",
    "Write a function called solution(n) which takes a positive integer as a string and returns the minimum number of operations needed to transform the number of pellets to 1. The fuel intake control panel can only display a number up to 309 digits long, so there won't ever be more pellets than you can express in that many digits.\n",
    "\n",
    "For example:\n",
    "\n",
    "    solution(4) returns 2: 4 -> 2 -> 1\n",
    "    solution(15) returns 5: 15 -> 16 -> 8 -> 4 -> 2 -> 1\n",
    "\n",
    "<h3 align= \"center\"><b>Test Cases</b></h3>\n",
    "\n",
    "```\n",
    "\n",
    "Input:\n",
    "    solution.solution(\"4\")\n",
    "Output:\n",
    "    2\n",
    "\n",
    "Input:\n",
    "    solution.solution(\"15\")\n",
    "Output:\n",
    "    5\n",
    "\n",
    "```"
   ]
  },
  {
   "attachments": {},
   "cell_type": "markdown",
   "metadata": {},
   "source": [
    "<h3 align= \"center\"><b>The idea</b></h3>\n",
    "\n",
    "To get the minimum number of operations you will always prefer to divide by 2 if you can, that seems clear enough. But, somewhat unintuitively, for an odd number it may be more convenient to add 1 than to remove 1. The test case \"15\" gives us that hint already, and in general that is the case when the number is congruent to 3 modulo 4 (except only for the number 3). Here's an explanation of why that's the case:\n",
    "\n",
    "Option 1: 4x+3 -> 4x+2 -> 2x+1 -> 2x or 2x+2 -> x or x+1\n",
    "\n",
    "Option 2: 4x+3 -> 4x+4 -> 2x+2 -> x+1\n",
    "\n",
    "We see that option 1 takes 4 steps to get to x or x+1, while option 2 takes only 3 steps to get to x+1. Worst case scenario, if x+1 is odd we could always do a fourth step to get to x and that will be as good as option 1. The case in which the number is congruent to 1 modulo 4 is similar, one of the most convenient possible options will always be\n",
    "\n",
    "4x+1 -> 4x -> 2x -> x\n",
    "\n",
    "With that idea, it's a basic recursion. Since each step of the recursion divides the number by at least two, this is O(log n) and then it works for many-digit numbers as required :)"
   ]
  },
  {
   "attachments": {},
   "cell_type": "markdown",
   "metadata": {},
   "source": [
    "<h3 align= \"center\"><b>The code</b></h3>"
   ]
  },
  {
   "cell_type": "code",
   "execution_count": 1,
   "metadata": {},
   "outputs": [],
   "source": [
    "def solution(n):\n",
    "    k = int(n)\n",
    "    \n",
    "    if k in range(1,4):\n",
    "        return k-1\n",
    "    if k%2 == 0:\n",
    "        return solution(k//2) + 1\n",
    "    if k%4 == 3:\n",
    "        return solution((k+1) // 4) + 3\n",
    "    return solution((k-1) // 4) + 3\n"
   ]
  },
  {
   "cell_type": "code",
   "execution_count": 2,
   "metadata": {},
   "outputs": [
    {
     "name": "stdout",
     "output_type": "stream",
     "text": [
      "2\n"
     ]
    }
   ],
   "source": [
    "print (solution(\"4\"))"
   ]
  },
  {
   "cell_type": "code",
   "execution_count": 3,
   "metadata": {},
   "outputs": [
    {
     "name": "stdout",
     "output_type": "stream",
     "text": [
      "5\n"
     ]
    }
   ],
   "source": [
    "print (solution(\"15\"))"
   ]
  }
 ],
 "metadata": {
  "kernelspec": {
   "display_name": ".venv",
   "language": "python",
   "name": "python3"
  },
  "language_info": {
   "codemirror_mode": {
    "name": "ipython",
    "version": 3
   },
   "file_extension": ".py",
   "mimetype": "text/x-python",
   "name": "python",
   "nbconvert_exporter": "python",
   "pygments_lexer": "ipython3",
   "version": "3.11.1"
  },
  "orig_nbformat": 4,
  "vscode": {
   "interpreter": {
    "hash": "f2c3671263f3976b0affb4b791f0958763c5720cfd17d2371d8063efdec0462b"
   }
  }
 },
 "nbformat": 4,
 "nbformat_minor": 2
}
