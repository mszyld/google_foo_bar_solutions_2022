{
 "cells": [
  {
   "attachments": {},
   "cell_type": "markdown",
   "metadata": {},
   "source": [
    "<h1 align= \"center\"><b>Problem: Running With Bunnies</b></h1>\n",
    "\n",
    "You and your rescued bunny prisoners need to get out of this collapsing death trap of a space station - and fast! Unfortunately, some of the bunnies have been weakened by their long imprisonment and can't run very fast. Their friends are trying to help them, but this escape would go a lot faster if you also pitched in. The defensive bulkhead doors have begun to close, and if you don't make it through in time, you'll be trapped! You need to grab as many bunnies as you can and get through the bulkheads before they close. \n",
    "\n",
    "The time it takes to move from your starting point to all of the bunnies and to the bulkhead will be given to you in a square matrix of integers. Each row will tell you the time it takes to get to the start, first bunny, second bunny, ..., last bunny, and the bulkhead in that order. The order of the rows follows the same pattern (start, each bunny, bulkhead). The bunnies can jump into your arms, so picking them up is instantaneous, and arriving at the bulkhead at the same time as it seals still allows for a successful, if dramatic, escape. (Don't worry, any bunnies you don't pick up will be able to escape with you since they no longer have to carry the ones you did pick up.) You can revisit different spots if you wish, and moving to the bulkhead doesn't mean you have to immediately leave - you can move to and from the bulkhead to pick up additional bunnies if time permits.\n",
    "\n",
    "In addition to spending time traveling between bunnies, some paths interact with the space station's security checkpoints and add time back to the clock. Adding time to the clock will delay the closing of the bulkhead doors, and if the time goes back up to 0 or a positive number after the doors have already closed, it triggers the bulkhead to reopen. Therefore, it might be possible to walk in a circle and keep gaining time: that is, each time a path is traversed, the same amount of time is used or added.\n",
    "\n",
    "Write a function of the form solution(times, time_limit) to calculate the most bunnies you can pick up and which bunnies they are, while still escaping through the bulkhead before the doors close for good. If there are multiple sets of bunnies of the same size, return the set of bunnies with the lowest prisoner IDs (as indexes) in sorted order. The bunnies are represented as a sorted list by prisoner ID, with the first bunny being 0. There are at most 5 bunnies, and time_limit is a non-negative integer that is at most 999.\n",
    "\n",
    "For instance, in the case of\n",
    "\n",
    "    [\n",
    "        [0, 2, 2, 2, -1],  # 0 = Start\n",
    "        [9, 0, 2, 2, -1],  # 1 = Bunny 0\n",
    "        [9, 3, 0, 2, -1],  # 2 = Bunny 1\n",
    "        [9, 3, 2, 0, -1],  # 3 = Bunny 2\n",
    "        [9, 3, 2, 2,  0],  # 4 = Bulkhead\n",
    "    ]\n",
    "\n",
    "and a time limit of 1, the five inner array rows designate the starting point, bunny 0, bunny 1, bunny 2, and the bulkhead door exit respectively. You could take the path:\n",
    "\n",
    "Start End Delta Time Status:\n",
    "\n",
    "    -   0     -    1 Bulkhead initially open\n",
    "    0   4    -1    2\n",
    "    4   2     2    0\n",
    "    2   4    -1    1\n",
    "    4   3     2   -1 Bulkhead closes\n",
    "    3   4    -1    0 Bulkhead reopens; you and the bunnies exit\n",
    "\n",
    "With this solution, you would pick up bunnies 1 and 2. This is the best combination for this space station hallway, so the answer is [1, 2].\n",
    "\n",
    "<h3 align= \"center\"><b>Test Cases</b></h3>\n",
    "\n",
    "```\n",
    "\n",
    "Input:\n",
    "    solution.solution([[0, 1, 1, 1, 1], [1, 0, 1, 1, 1], [1, 1, 0, 1, 1], [1, 1, 1, 0, 1], [1, 1, 1, 1, 0]], 3)\n",
    "Output:\n",
    "    [0, 1]\n",
    "\n",
    "Input:\n",
    "    solution.solution([[0, 2, 2, 2, -1], [9, 0, 2, 2, -1], [9, 3, 0, 2, -1], [9, 3, 2, 0, -1], [9, 3, 2, 2, 0]], 1)\n",
    "Output:\n",
    "    [1, 2]\n",
    "\n",
    "```\n"
   ]
  },
  {
   "attachments": {},
   "cell_type": "markdown",
   "metadata": {},
   "source": [
    "<h3 align= \"center\"><b>The idea</b></h3>\n",
    "\n",
    "- First idea: if there is a cycle that increases time limit then you can always go there first, increase the time limit as much as needed to pick up all bunnies and exit with all the bunnies. So we can check that first.\n",
    "\n",
    "- Second idea: We can traverse all the possibilities for picking bunnies with a BFS, keeping track of the best possible time to get to the previously visited positions carrying each different possible combination of bunnies. We only visit a position again if we improve that time or carry different bunnies. Since there isn't any cycle that increases the time limit, then this will eventually end (proof left as exercise :P) and then we can just choose the best possible answer that made it to the exit in time.\n"
   ]
  },
  {
   "attachments": {},
   "cell_type": "markdown",
   "metadata": {},
   "source": [
    "<h3 align= \"center\"><b>The code</b></h3>"
   ]
  },
  {
   "cell_type": "code",
   "execution_count": 1,
   "metadata": {},
   "outputs": [],
   "source": [
    "def solution(times, times_limit):\n",
    "    \n",
    "    size = len(times)\n",
    "    \n",
    "    # check for a cycle that increase time limit, can't be longer than number of nodes or would contain a smaller one\n",
    "    # note you can always decide to stay so this checks for cycles shorter than number of nodes too\n",
    "    for start in range(size):\n",
    "        time_to = [ row[start] for row in times ]\n",
    "        for step in range(size):\n",
    "            new_time_to = [\n",
    "                min ( [ time_to[passing] + times[new_to][passing] for passing in range(size)] )\n",
    "                for new_to in range(size)\n",
    "            ]\n",
    "            time_to = new_time_to\n",
    "        \n",
    "        if time_to[start] < 0:\n",
    "            # if there's such a cycle you can increase time limit as much as needed to pick up all bunnies\n",
    "            return range(size - 2)\n",
    "\n",
    "    # BFS keeping track of current position, bunnies already picked up and time to that position\n",
    "    starting = [False for _ in range(size)]\n",
    "    starting[0] = True\n",
    "    best_times = { (0, tuple(starting)) : 0 }\n",
    "    queue = [ ((0, tuple(starting)) , 0) ]\n",
    "    ans = []\n",
    "    while queue:\n",
    "        ((at,holding) , time) = queue.pop()\n",
    "        \n",
    "        if at == size-1 and time <= times_limit:\n",
    "            holding_as_list = [i-1 for i in range(1,size-1) if holding[i]]\n",
    "            if len(holding_as_list) > len(ans) or (len(holding_as_list) == len(ans) and holding_as_list < ans):\n",
    "                ans = holding_as_list\n",
    "        \n",
    "        for new_at, time_to_new_at in enumerate(times[at]):\n",
    "            holding_new_at = list(holding)\n",
    "            holding_new_at[new_at] = True\n",
    "            new_status = (new_at, tuple(holding_new_at))\n",
    "            new_time = time + time_to_new_at\n",
    "            if new_status not in best_times or new_time < best_times[new_status]:\n",
    "                best_times[new_status] = new_time\n",
    "                queue.append((new_status, new_time))\n",
    "    \n",
    "    return ans\n"
   ]
  },
  {
   "cell_type": "code",
   "execution_count": 2,
   "metadata": {},
   "outputs": [
    {
     "name": "stdout",
     "output_type": "stream",
     "text": [
      "[1, 2]\n"
     ]
    }
   ],
   "source": [
    "print (solution([[0, 2, 2, 2, -1], [9, 0, 2, 2, -1], [9, 3, 0, 2, -1], [9, 3, 2, 0, -1], [9, 3, 2, 2, 0]], 1))"
   ]
  },
  {
   "cell_type": "code",
   "execution_count": 3,
   "metadata": {},
   "outputs": [
    {
     "name": "stdout",
     "output_type": "stream",
     "text": [
      "[0, 1]\n"
     ]
    }
   ],
   "source": [
    "print(solution([[0, 1, 1, 1, 1], [1, 0, 1, 1, 1], [1, 1, 0, 1, 1], [1, 1, 1, 0, 1], [1, 1, 1, 1, 0]], 3))"
   ]
  }
 ],
 "metadata": {
  "kernelspec": {
   "display_name": ".venv",
   "language": "python",
   "name": "python3"
  },
  "language_info": {
   "codemirror_mode": {
    "name": "ipython",
    "version": 3
   },
   "file_extension": ".py",
   "mimetype": "text/x-python",
   "name": "python",
   "nbconvert_exporter": "python",
   "pygments_lexer": "ipython3",
   "version": "3.11.1"
  },
  "orig_nbformat": 4,
  "vscode": {
   "interpreter": {
    "hash": "f2c3671263f3976b0affb4b791f0958763c5720cfd17d2371d8063efdec0462b"
   }
  }
 },
 "nbformat": 4,
 "nbformat_minor": 2
}
