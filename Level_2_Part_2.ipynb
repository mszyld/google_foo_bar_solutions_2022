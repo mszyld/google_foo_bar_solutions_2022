{
 "cells": [
  {
   "attachments": {},
   "cell_type": "markdown",
   "metadata": {},
   "source": [
    "<h1 align= \"center\"><b>Problem: Hey, I Already Did That!</b></h1>\n",
    "\n",
    "Commander Lambda uses an automated algorithm to assign minions randomly to tasks, in order to keep her minions on their toes. But you've noticed a flaw in the algorithm - it eventually loops back on itself, so that instead of assigning new minions as it iterates, it gets stuck in a cycle of values so that the same minions end up doing the same tasks over and over again. You think proving this to Commander Lambda will help you make a case for your next promotion. \n",
    "\n",
    "You have worked out that the algorithm has the following process: \n",
    "\n",
    "    1. Start with a random minion ID n, which is a nonnegative integer of length k in base b\n",
    "    2. Define x and y as integers of length k.  x has the digits of n in descending order, and y has the digits of n in ascending order\n",
    "    3. Define z = x - y.  Add leading zeros to z to maintain length k if necessary\n",
    "    4. Assign n = z to get the next minion ID, and go back to step 2\n",
    "\n",
    "For example, given minion ID n = 1211, k = 4, b = 10, then x = 2111, y = 1112 and z = 2111 - 1112 = 0999. Then the next minion ID will be n = 0999 and the algorithm iterates again: x = 9990, y = 0999 and z = 9990 - 0999 = 8991, and so on.\n",
    "\n",
    "Depending on the values of n, k (derived from n), and b, at some point the algorithm reaches a cycle, such as by reaching a constant value. For example, starting with n = 210022, k = 6, b = 3, the algorithm will reach the cycle of values [210111, 122221, 102212] and it will stay in this cycle no matter how many times it continues iterating. Starting with n = 1211, the routine will reach the integer 6174, and since 7641 - 1467 is 6174, it will stay as that value no matter how many times it iterates.\n",
    "\n",
    "Given a minion ID as a string n representing a nonnegative integer of length k in base b, where 2 <= k <= 9 and 2 <= b <= 10, write a function solution(n, b) which returns the length of the ending cycle of the algorithm above starting with n. For instance, in the example above, solution(210022, 3) would return 3, since iterating on 102212 would return to 210111 when done in base 3. If the algorithm reaches a constant, such as 0, then the length is 1.\n",
    "\n",
    "<h2 align= \"center\"><b>Test Cases</b></h2>\n",
    "\n",
    "```\n",
    "\n",
    "Input:\n",
    "    solution.solution(\"1211\", 10)\n",
    "Output:\n",
    "    1\n",
    "\n",
    "Input:\n",
    "    solution.solution(\"210022\", 3)\n",
    "Output:\n",
    "    3\n",
    "\n",
    "```\n"
   ]
  },
  {
   "attachments": {},
   "cell_type": "markdown",
   "metadata": {},
   "source": [
    "<h3 align= \"center\"><b>The idea</b></h3>\n",
    "\n",
    "We can simply simulate the process described above, keeping track of the used IDS and the iteration at which we used it, and as soon as we repeat an ID return the difference between the current iteration and the saved one. Now, the numbers can be very large, so why does this process quickly end? I run some tests using the code below and if you start with n = 100011556 (base 10) it takes 26 iterations, that's the maximum I found and it was enough to pass the 10 foo bar tests. I'd love to know if this is the actual maximum and maybe have a proof? Something to think about... :)"
   ]
  },
  {
   "attachments": {},
   "cell_type": "markdown",
   "metadata": {},
   "source": [
    "<h3 align= \"center\"><b>The code</b></h3>"
   ]
  },
  {
   "cell_type": "code",
   "execution_count": 11,
   "metadata": {},
   "outputs": [],
   "source": [
    "def solution(n, b):\n",
    "    def rebase(digits, output_base):\n",
    "        if all (d == '0' for d in digits):\n",
    "            return ['0']\n",
    "        input_number = int (''.join(digits))\n",
    "        ans = []\n",
    "        while input_number > 0:\n",
    "            input_number, remainder = divmod(input_number, output_base)\n",
    "            ans.append(str(remainder))\n",
    "        return ans[::-1]\n",
    "\n",
    "    visited = dict()\n",
    "    for i in range(27):\n",
    "    # largest i I found running tests was i = 26 for n = 100011556, b = 10\n",
    "        visited[n] = i\n",
    "        y = sorted(list(n))\n",
    "        x = y[::-1]\n",
    "        z = list(str(int(''.join(x),b) - int(''.join(y),b) ))\n",
    "        if all (d == '0' for d in z):\n",
    "            return 1\n",
    "        if b != 10:\n",
    "            z =   rebase( z , b ) \n",
    "\n",
    "        with_leading_zeros = ['0' for i in range(len(y) - len(z)) ]\n",
    "        with_leading_zeros.extend(z)\n",
    "        n = ''.join(with_leading_zeros)\n",
    "        if n in visited:\n",
    "            return i - visited[n] + 1"
   ]
  },
  {
   "cell_type": "code",
   "execution_count": 12,
   "metadata": {},
   "outputs": [
    {
     "name": "stdout",
     "output_type": "stream",
     "text": [
      "1\n"
     ]
    }
   ],
   "source": [
    "print (solution(\"1211\", 10))"
   ]
  },
  {
   "cell_type": "code",
   "execution_count": 9,
   "metadata": {},
   "outputs": [
    {
     "name": "stdout",
     "output_type": "stream",
     "text": [
      "3\n"
     ]
    }
   ],
   "source": [
    "print (solution(\"210022\", 3))"
   ]
  }
 ],
 "metadata": {
  "kernelspec": {
   "display_name": ".venv",
   "language": "python",
   "name": "python3"
  },
  "language_info": {
   "codemirror_mode": {
    "name": "ipython",
    "version": 3
   },
   "file_extension": ".py",
   "mimetype": "text/x-python",
   "name": "python",
   "nbconvert_exporter": "python",
   "pygments_lexer": "ipython3",
   "version": "3.11.1"
  },
  "orig_nbformat": 4,
  "vscode": {
   "interpreter": {
    "hash": "f2c3671263f3976b0affb4b791f0958763c5720cfd17d2371d8063efdec0462b"
   }
  }
 },
 "nbformat": 4,
 "nbformat_minor": 2
}
